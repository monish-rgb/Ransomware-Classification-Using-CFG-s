{
 "cells": [
  {
   "cell_type": "code",
   "execution_count": 1,
   "metadata": {
    "id": "zm36588UfX86"
   },
   "outputs": [],
   "source": [
    "import numpy as np\n",
    "import pandas as pd\n",
    "import networkx as nx"
   ]
  },
  {
   "cell_type": "code",
   "execution_count": 2,
   "metadata": {
    "id": "EicQh4_Gff-C"
   },
   "outputs": [],
   "source": [
    "G = nx.read_gml(\"C:/Users/MONISH/OneDrive/Desktop/Final Year Proj/b169a88f9146093e8a25d305c95d349dc4b0d9bd369fa1e44811cb1bc2591148.gml\", label='id')"
   ]
  },
  {
   "cell_type": "code",
   "execution_count": 3,
   "metadata": {
    "colab": {
     "base_uri": "https://localhost:8080/"
    },
    "id": "fwXa8_-afn7v",
    "outputId": "31572959-cc72-4776-c19f-df21c22005a3"
   },
   "outputs": [
    {
     "name": "stdout",
     "output_type": "stream",
     "text": [
      "DiGraph with 35686 nodes and 53055 edges\n"
     ]
    }
   ],
   "source": [
    "print(G)"
   ]
  },
  {
   "cell_type": "code",
   "execution_count": 4,
   "metadata": {
    "id": "3bzD98sEfvmK"
   },
   "outputs": [],
   "source": [
    "num_nodes = G.number_of_nodes()\n",
    "num_edges = G.number_of_edges()"
   ]
  },
  {
   "cell_type": "code",
   "execution_count": 5,
   "metadata": {
    "id": "aB7fnASMftUF"
   },
   "outputs": [],
   "source": [
    "max_indegree = max(dict(G.in_degree()).items(), key=lambda x: x[1])[1]\n",
    "max_outdegree = max(dict(G.out_degree()).items(), key=lambda x: x[1])[1]\n",
    "max_degree = max(dict(G.degree()).items(), key=lambda x: x[1])[1]\n",
    "avg_in_degree = sum(dict(G.in_degree()).values()) / len(G)"
   ]
  },
  {
   "cell_type": "code",
   "execution_count": 6,
   "metadata": {
    "id": "LtktrTOBhqPf"
   },
   "outputs": [
    {
     "name": "stdout",
     "output_type": "stream",
     "text": [
      "Network diameter: 65\n"
     ]
    }
   ],
   "source": [
    "# Calculate betweenness centrality for all nodes\n",
    "bc = nx.betweenness_centrality(G)\n",
    "\n",
    "# Find the node with the highest betweenness centrality\n",
    "max_bc_node = max(bc, key=bc.get)\n",
    "\n",
    "# Calculate shortest path lengths from the node with highest betweenness centrality to all other nodes\n",
    "spl = nx.shortest_path_length(G, source=max_bc_node)\n",
    "\n",
    "# Find the maximum shortest path length, which is the network diameter\n",
    "network_diameter = max(spl.values())\n",
    "\n",
    "print(\"Network diameter:\", network_diameter)"
   ]
  },
  {
   "cell_type": "code",
   "execution_count": null,
   "metadata": {
    "id": "ILe2e0J2h1SR"
   },
   "outputs": [],
   "source": [
    "scc = max(nx.strongly_connected_components(G), key=len)\n",
    "G_scc = G.subgraph(scc)\n",
    "\n",
    "# Compute the network diameter\n",
    "diameter = nx.diameter(G_scc, e=None, usebounds=False)\n",
    "\n",
    "# print(\"Diameter:\", diameter)\n",
    "\n",
    "# Calculate the shortest path lengths between every pair of nodes\n",
    "path_lengths = dict(nx.shortest_path_length(G))\n",
    "\n",
    "# Calculate the average shortest path length for the network\n",
    "total_path_length = sum(sum(lengths.values()) for lengths in path_lengths.values())\n",
    "n_pairs = sum(len(lengths) for lengths in path_lengths.values())\n",
    "avg_path_length = total_path_length / n_pairs\n",
    "\n",
    "print(\"Average path length:\", avg_path_length)"
   ]
  },
  {
   "cell_type": "code",
   "execution_count": null,
   "metadata": {
    "id": "u5VVgAMDgDv5"
   },
   "outputs": [],
   "source": [
    "density = nx.density(G)\n",
    "\n",
    "# Print the result\n",
    "print(f\"The graph density is {density}\")"
   ]
  },
  {
   "cell_type": "code",
   "execution_count": null,
   "metadata": {
    "id": "qH-FkGUThf5Z"
   },
   "outputs": [],
   "source": [
    "# Get strongly connected components using Tarjan's algorithm\n",
    "# strongly_connected_components = list(nx.strongly_connected_components(G))\n",
    "\n",
    "# Get medium connected components using Depth-First Search and Linear Graph Algorithms\n",
    "medium_connected_components = list(nx.kosaraju_strongly_connected_components(G))\n",
    "# a=len(strongly_connected_components)\n",
    "b=len(medium_connected_components)\n",
    "# Print results\n",
    "# print(b)\n",
    "print(\"Strongly Connected Components:\")\n",
    "print(b)"
   ]
  },
  {
   "cell_type": "code",
   "execution_count": null,
   "metadata": {
    "id": "1ak0-xa4gPLJ"
   },
   "outputs": [],
   "source": [
    "pr = nx.pagerank(G)\n",
    "avg_pr = sum(pr.values()) / len(pr)"
   ]
  },
  {
   "cell_type": "code",
   "execution_count": null,
   "metadata": {
    "id": "MdwlMuoRgavW"
   },
   "outputs": [],
   "source": [
    "h, a = nx.hits(G)\n",
    "\n",
    "# Print results\n",
    "# print(\"Authority scores:\")\n",
    "# print(a)\n",
    "# print(\"Hub scores:\")\n",
    "# print(h)\n",
    "avg_a = sum(a.values()) / len(a)\n",
    "avg_h = sum(h.values()) / len(h)"
   ]
  },
  {
   "cell_type": "code",
   "execution_count": null,
   "metadata": {
    "id": "BYSMUh_uhTNt"
   },
   "outputs": [],
   "source": [
    "closeness_centrality = nx.harmonic_centrality(G)\n",
    "avg_closeness_centrality = sum(closeness_centrality.values()) / len(closeness_centrality)"
   ]
  },
  {
   "cell_type": "code",
   "execution_count": null,
   "metadata": {
    "id": "4vW-edQrgiJq"
   },
   "outputs": [],
   "source": [
    "harmonic_centrality = nx.harmonic_centrality(G)\n",
    "\n",
    "# Calculate the average harmonic closeness centrality for the graph\n",
    "avg_harmonic_centrality = sum(harmonic_centrality.values()) / len(harmonic_centrality)"
   ]
  },
  {
   "cell_type": "code",
   "execution_count": null,
   "metadata": {
    "id": "EhOlz3kQgtZu"
   },
   "outputs": [],
   "source": [
    "betweenness = nx.betweenness_centrality(G)\n",
    "\n",
    "# Compute average betweenness centrality\n",
    "avg_betweenness = sum(betweenness.values()) / len(betweenness)"
   ]
  },
  {
   "cell_type": "code",
   "execution_count": null,
   "metadata": {
    "id": "9IWPrg2qgNIL"
   },
   "outputs": [],
   "source": [
    "avg_cc = nx.average_clustering(G)\n",
    "\n",
    "# Print the result\n",
    "print(f\"The average clustering coefficient is {avg_cc}\")"
   ]
  },
  {
   "cell_type": "code",
   "execution_count": null,
   "metadata": {
    "id": "xOJU3ZZjkIQq"
   },
   "outputs": [],
   "source": [
    "eig_centrality = nx.eigenvector_centrality(G, max_iter=1000)\n",
    "\n",
    "avg_eig_centrality = sum(eig_centrality.values()) / len(eig_centrality)"
   ]
  },
  {
   "cell_type": "code",
   "execution_count": null,
   "metadata": {
    "id": "hZvHk3BKkt_N"
   },
   "outputs": [],
   "source": [
    "n = len(G.nodes)\n",
    "tau1 = 3.0\n",
    "tau2 = 1.5\n",
    "mu = 0.1\n",
    "\n",
    "# Identify the communities using the greedy modularity algorithm\n",
    "communities = list(greedy_modularity_communities(G))\n",
    "\n",
    "# Calculate the modularity score\n",
    "modularity = nx.algorithms.community.modularity(G, communities)"
   ]
  },
  {
   "cell_type": "code",
   "execution_count": null,
   "metadata": {
    "id": "JsAoy3Rnh5W1"
   },
   "outputs": [],
   "source": [
    "print(\"Number of nodes: \", num_nodes)\n",
    "print(\"Number of edges: \", num_edges)\n",
    "print(\"Highest-Indegree: \", max_indegree)\n",
    "print(\"Hightes-Outdegree: \", max_outdegree)\n",
    "print(\"Highest-Degree: \", max_degree)\n",
    "print(\"The average degree of the graph is:\", avg_in_degree)\n",
    "print(\"Network diameter:\", network_diameter)\n",
    "print(f\"The graph density is {density}\")\n",
    "print(\"Average authority score:\", avg_a)\n",
    "print(\"Average hub score:\", avg_h)\n",
    "print(f\"The average PageRank is {avg_pr:.4f}\")\n",
    "print(f\"Average Closeness Centrality: {avg_closeness_centrality}\")\n",
    "print(f\"Average Harmonic Closeness Centrality: {avg_harmonic_centrality}\")\n",
    "print(f\"Average Eigenvector Centrality :{avg_eig_centrality}\")\n",
    "print(f\"Average betweenness centrality: {avg_betweenness:.4f}\")\n",
    "print(\"Modularity score:\", modularity)\n",
    "print(f\"The average clustering coefficient is {avg_cc}\")\n",
    "print(\"Average path length:\", avg_path_length)"
   ]
  },
  {
   "cell_type": "code",
   "execution_count": null,
   "metadata": {
    "id": "lzO72VgKjzCk"
   },
   "outputs": [],
   "source": []
  }
 ],
 "metadata": {
  "accelerator": "GPU",
  "colab": {
   "provenance": []
  },
  "gpuClass": "standard",
  "kernelspec": {
   "display_name": "Python 3 (ipykernel)",
   "language": "python",
   "name": "python3"
  },
  "language_info": {
   "codemirror_mode": {
    "name": "ipython",
    "version": 3
   },
   "file_extension": ".py",
   "mimetype": "text/x-python",
   "name": "python",
   "nbconvert_exporter": "python",
   "pygments_lexer": "ipython3",
   "version": "3.9.12"
  }
 },
 "nbformat": 4,
 "nbformat_minor": 1
}
